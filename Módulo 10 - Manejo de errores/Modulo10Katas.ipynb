{
 "cells": [
  {
   "cell_type": "code",
   "execution_count": null,
   "metadata": {},
   "outputs": [],
   "source": [
    "open(\"/path/to/mars.jpg\")"
   ]
  },
  {
   "cell_type": "code",
   "execution_count": null,
   "metadata": {},
   "outputs": [],
   "source": [
    "try:\n",
    "     open('config.txt')\n",
    "except FileNotFoundError:\n",
    "     print(\"Couldn't find the config.txt file!\")"
   ]
  },
  {
   "cell_type": "code",
   "execution_count": 12,
   "metadata": {},
   "outputs": [
    {
     "ename": "RuntimeError",
     "evalue": "There is not enough water for 5 astronauts after 2 days!",
     "output_type": "error",
     "traceback": [
      "\u001b[0;31m---------------------------------------------------------------------------\u001b[0m",
      "\u001b[0;31mRuntimeError\u001b[0m                              Traceback (most recent call last)",
      "Input \u001b[0;32mIn [12]\u001b[0m, in \u001b[0;36m<module>\u001b[0;34m\u001b[0m\n\u001b[1;32m     14\u001b[0m         \u001b[38;5;28;01mraise\u001b[39;00m \u001b[38;5;167;01mRuntimeError\u001b[39;00m(\u001b[38;5;124mf\u001b[39m\u001b[38;5;124m\"\u001b[39m\u001b[38;5;124mThere is not enough water for \u001b[39m\u001b[38;5;132;01m{\u001b[39;00mastronauts\u001b[38;5;132;01m}\u001b[39;00m\u001b[38;5;124m astronauts after \u001b[39m\u001b[38;5;132;01m{\u001b[39;00mdays_left\u001b[38;5;132;01m}\u001b[39;00m\u001b[38;5;124m days!\u001b[39m\u001b[38;5;124m\"\u001b[39m)\n\u001b[1;32m     15\u001b[0m     \u001b[38;5;28;01mreturn\u001b[39;00m \u001b[38;5;124mf\u001b[39m\u001b[38;5;124m\"\u001b[39m\u001b[38;5;124mTotal water left after \u001b[39m\u001b[38;5;132;01m{\u001b[39;00mdays_left\u001b[38;5;132;01m}\u001b[39;00m\u001b[38;5;124m days is: \u001b[39m\u001b[38;5;132;01m{\u001b[39;00mtotal_water_left\u001b[38;5;132;01m}\u001b[39;00m\u001b[38;5;124m liters\u001b[39m\u001b[38;5;124m\"\u001b[39m\n\u001b[0;32m---> 17\u001b[0m \u001b[43mwater_left\u001b[49m\u001b[43m(\u001b[49m\u001b[38;5;241;43m5\u001b[39;49m\u001b[43m,\u001b[49m\u001b[38;5;241;43m100\u001b[39;49m\u001b[43m,\u001b[49m\u001b[38;5;241;43m2\u001b[39;49m\u001b[43m)\u001b[49m\n",
      "Input \u001b[0;32mIn [12]\u001b[0m, in \u001b[0;36mwater_left\u001b[0;34m(astronauts, water_left, days_left)\u001b[0m\n\u001b[1;32m     12\u001b[0m total_water_left \u001b[38;5;241m=\u001b[39m water_left \u001b[38;5;241m-\u001b[39m total_usage\n\u001b[1;32m     13\u001b[0m \u001b[38;5;28;01mif\u001b[39;00m total_water_left \u001b[38;5;241m<\u001b[39m \u001b[38;5;241m0\u001b[39m:\n\u001b[0;32m---> 14\u001b[0m     \u001b[38;5;28;01mraise\u001b[39;00m \u001b[38;5;167;01mRuntimeError\u001b[39;00m(\u001b[38;5;124mf\u001b[39m\u001b[38;5;124m\"\u001b[39m\u001b[38;5;124mThere is not enough water for \u001b[39m\u001b[38;5;132;01m{\u001b[39;00mastronauts\u001b[38;5;132;01m}\u001b[39;00m\u001b[38;5;124m astronauts after \u001b[39m\u001b[38;5;132;01m{\u001b[39;00mdays_left\u001b[38;5;132;01m}\u001b[39;00m\u001b[38;5;124m days!\u001b[39m\u001b[38;5;124m\"\u001b[39m)\n\u001b[1;32m     15\u001b[0m \u001b[38;5;28;01mreturn\u001b[39;00m \u001b[38;5;124mf\u001b[39m\u001b[38;5;124m\"\u001b[39m\u001b[38;5;124mTotal water left after \u001b[39m\u001b[38;5;132;01m{\u001b[39;00mdays_left\u001b[38;5;132;01m}\u001b[39;00m\u001b[38;5;124m days is: \u001b[39m\u001b[38;5;132;01m{\u001b[39;00mtotal_water_left\u001b[38;5;132;01m}\u001b[39;00m\u001b[38;5;124m liters\u001b[39m\u001b[38;5;124m\"\u001b[39m\n",
      "\u001b[0;31mRuntimeError\u001b[0m: There is not enough water for 5 astronauts after 2 days!"
     ]
    }
   ],
   "source": [
    "def water_left(astronauts, water_left, days_left):\n",
    "    for argument in [astronauts, water_left, days_left]:\n",
    "        try:\n",
    "            # If argument is an int, the following operation will work\n",
    "            argument / 10\n",
    "        except TypeError:\n",
    "            # TypError will be raised only if it isn't the right type \n",
    "            # Raise the same exception but with a better error message\n",
    "            raise TypeError(f\"All arguments must be of type int, but received: '{argument}'\")\n",
    "    daily_usage = astronauts * 11\n",
    "    total_usage = daily_usage * days_left\n",
    "    total_water_left = water_left - total_usage\n",
    "    if total_water_left < 0:\n",
    "        raise RuntimeError(f\"There is not enough water for {astronauts} astronauts after {days_left} days!\")\n",
    "    return f\"Total water left after {days_left} days is: {total_water_left} liters\"\n",
    "\n",
    "water_left(5,100,2)"
   ]
  }
 ],
 "metadata": {
  "interpreter": {
   "hash": "aee8b7b246df8f9039afb4144a1f6fd8d2ca17a180786b69acc140d282b71a49"
  },
  "kernelspec": {
   "display_name": "Python 3.9.10 64-bit",
   "name": "python3"
  },
  "language_info": {
   "codemirror_mode": {
    "name": "ipython",
    "version": 3
   },
   "file_extension": ".py",
   "mimetype": "text/x-python",
   "name": "python",
   "nbconvert_exporter": "python",
   "pygments_lexer": "ipython3",
   "version": "3.9.10"
  },
  "orig_nbformat": 4
 },
 "nbformat": 4,
 "nbformat_minor": 2
}
